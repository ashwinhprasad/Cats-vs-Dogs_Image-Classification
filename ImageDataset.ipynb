{
 "cells": [
  {
   "cell_type": "markdown",
   "metadata": {},
   "source": [
    "<h1> Dataset Preparation </h1>\n",
    "\n",
    "I always use google colab for training model. So, it's such a headache when it comes to uploading the images directly to colab or to google drive. The process is very slow. So, here's a way to create a custom image dataset"
   ]
  },
  {
   "cell_type": "code",
   "execution_count": 2,
   "metadata": {},
   "outputs": [],
   "source": [
    "import numpy as np\n",
    "import matplotlib.pyplot as plt\n",
    "import cv2\n",
    "import os\n",
    "%matplotlib inline"
   ]
  },
  {
   "cell_type": "code",
   "execution_count": 84,
   "metadata": {},
   "outputs": [],
   "source": [
    "directories = ['Cat','Dog']\n",
    "path = \"/home/ashwinhprasad/Documents/code/python/AI/kaggle/kagglecatsanddogs_3367a/PetImages\"\n",
    "images = []\n",
    "labels = []\n",
    "for classes in directories:\n",
    "    path = os.path.join(path,classes)\n",
    "    for file in os.listdir(path):\n",
    "        try:\n",
    "            image = cv2.imread(os.path.join(path,file))\n",
    "            image = cv2.cvtColor(image,cv2.COLOR_BGR2RGB)\n",
    "            image = cv2.resize(image,(50,50))\n",
    "            images.append(image)\n",
    "            labels.append(directories.index(classes))\n",
    "        except:\n",
    "            pass\n",
    "    path = \"/home/ashwinhprasad/Documents/code/python/AI/kaggle/kagglecatsanddogs_3367a/PetImages\""
   ]
  },
  {
   "cell_type": "markdown",
   "metadata": {},
   "source": [
    "Here, I have categorized the different classes of Images and stored them in separate directories in my PC. then , I have appended all these images to a list and the corresponding labels to another list"
   ]
  },
  {
   "cell_type": "markdown",
   "metadata": {},
   "source": [
    "<h2> Converting to Numpy arrays </h2>\n",
    "\n",
    "converting the list of images to numpy arrays "
   ]
  },
  {
   "cell_type": "code",
   "execution_count": 85,
   "metadata": {},
   "outputs": [],
   "source": [
    "images = np.array(images)\n",
    "labels = np.array(labels)"
   ]
  },
  {
   "cell_type": "markdown",
   "metadata": {},
   "source": [
    "<h2>.NPY files</h2>\n",
    "\n",
    ".npy files allows you to store numpy arrays in files. I am using this to store the images as numpy arrays in afile"
   ]
  },
  {
   "cell_type": "code",
   "execution_count": 87,
   "metadata": {},
   "outputs": [],
   "source": [
    "np.save(\"dogsvscats.npy\",images)\n",
    "np.save(\"targets.npy\",labels)"
   ]
  }
 ],
 "metadata": {
  "kernelspec": {
   "display_name": "Python 3",
   "language": "python",
   "name": "python3"
  },
  "language_info": {
   "codemirror_mode": {
    "name": "ipython",
    "version": 3
   },
   "file_extension": ".py",
   "mimetype": "text/x-python",
   "name": "python",
   "nbconvert_exporter": "python",
   "pygments_lexer": "ipython3",
   "version": "3.8.3"
  }
 },
 "nbformat": 4,
 "nbformat_minor": 4
}
